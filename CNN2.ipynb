{
 "cells": [
  {
   "cell_type": "code",
   "execution_count": 1,
   "id": "9d0a5a4e-d57f-4c65-83ef-78831f9dcf04",
   "metadata": {
    "tags": []
   },
   "outputs": [
    {
     "name": "stdout",
     "output_type": "stream",
     "text": [
      "WARNING:tensorflow:From C:\\Users\\ghamm\\anaconda3\\Lib\\site-packages\\keras\\src\\losses.py:2976: The name tf.losses.sparse_softmax_cross_entropy is deprecated. Please use tf.compat.v1.losses.sparse_softmax_cross_entropy instead.\n",
      "\n"
     ]
    }
   ],
   "source": [
    "import keras\n",
    "from keras.models import Sequential\n",
    "from keras.layers import Dense, Dropout, Flatten\n",
    "from keras.layers import Conv2D, MaxPooling2D\n",
    "from keras.preprocessing import image\n",
    "import numpy as np\n",
    "import pandas as pd\n",
    "import matplotlib.pyplot as plt\n",
    "from sklearn.model_selection import train_test_split\n",
    "from tqdm import tqdm\n",
    "from keras.layers import BatchNormalization"
   ]
  },
  {
   "cell_type": "code",
   "execution_count": null,
   "id": "77a7e1d3-f2e9-47a2-af64-03ffe03b5d24",
   "metadata": {},
   "outputs": [],
   "source": [
    "dataset = './dataset/images/'\n",
    "imageLabels = './dataset/imageLabels.txt'"
   ]
  },
  {
   "cell_type": "code",
   "execution_count": null,
   "id": "2e407c18-658e-4fbc-9d0a-28faacbfa527",
   "metadata": {},
   "outputs": [],
   "source": [
    "# Dataset settings\n",
    "train_vol = 0.8\n",
    "\n",
    "# Train settings\n",
    "batch_size = 16\n",
    "epochs = 50"
   ]
  },
  {
   "cell_type": "code",
   "execution_count": null,
   "id": "2a5ba4f7-1924-402c-a7d2-225ceb5285c9",
   "metadata": {},
   "outputs": [],
   "source": [
    "categories = [\n",
    "    \"Pepperoni\",\n",
    "    \"Bacon\",\n",
    "    \"Mushrooms\",\n",
    "    \"Onions\",\n",
    "    \"Peppers\",\n",
    "    \"Black olives\",\n",
    "    \"Tomatoes\",\n",
    "    \"Spinach\",\n",
    "    \"Fresh basil\",\n",
    "    \"Arugula\",\n",
    "    \"Broccoli\",\n",
    "    \"Corn\",\n",
    "    \"Pineapple\"\n",
    "]"
   ]
  },
  {
   "cell_type": "code",
   "execution_count": null,
   "id": "df5612c6-687d-4deb-87d9-75abc0f19936",
   "metadata": {},
   "outputs": [],
   "source": [
    "with open(imageLabels, 'r') as file:\n",
    "    lines = file.readlines()\n",
    "    y = []\n",
    "    for line in lines:\n",
    "        class_array = [int(num) for num in line.split()]\n",
    "        y.append(class_array)\n",
    "     \n",
    "    y1=y\n",
    "    y= np.array(y)    \n",
    "        \n",
    "\n",
    "print(y)"
   ]
  },
  {
   "cell_type": "code",
   "execution_count": null,
   "id": "a4bef1f9-6885-46d6-8610-58130915879a",
   "metadata": {},
   "outputs": [],
   "source": [
    "image_names = ['{:05d}'.format(i) for i in range(1,9214)]"
   ]
  },
  {
   "cell_type": "code",
   "execution_count": null,
   "id": "9e34d8d6-563c-4531-9889-f456c3163aa7",
   "metadata": {},
   "outputs": [],
   "source": []
  },
  {
   "cell_type": "code",
   "execution_count": null,
   "id": "33fe24c6-6e00-458c-8d31-e21ef45c3ded",
   "metadata": {},
   "outputs": [],
   "source": [
    "four_channel_images = []\n",
    "for i in range(0,9213):\n",
    "    if data_x[i].shape[2] == 4:\n",
    "        four_channel_images.append(i)\n",
    "print(four_channel_images)        "
   ]
  },
  {
   "cell_type": "code",
   "execution_count": null,
   "id": "18c86104-cbb4-45a8-8207-14e8427274bc",
   "metadata": {},
   "outputs": [],
   "source": [
    "#fixing 4 channel problem\n",
    "for i in four_channel_images:\n",
    "    j= '{:05d}'.format(i+1)\n",
    "    rgba_image = Image.open(dataset + str(j) + '.jpg')\n",
    "    rgb_image = rgba_image.convert(\"RGB\")\n",
    "    resized_image = rgb_image.resize((150, 150))/255.\n",
    "    image_array = np.array(resized_image)\n",
    "    data_x[i]= image_array"
   ]
  },
  {
   "cell_type": "code",
   "execution_count": 3,
   "id": "2bf12c2a-3665-4caf-a7b5-0c29581b8998",
   "metadata": {
    "tags": []
   },
   "outputs": [
    {
     "ename": "NameError",
     "evalue": "name 'image_names' is not defined",
     "output_type": "error",
     "traceback": [
      "\u001b[1;31m---------------------------------------------------------------------------\u001b[0m",
      "\u001b[1;31mNameError\u001b[0m                                 Traceback (most recent call last)",
      "Cell \u001b[1;32mIn[3], line 1\u001b[0m\n\u001b[1;32m----> 1\u001b[0m data_x \u001b[38;5;241m=\u001b[39m [tf\u001b[38;5;241m.\u001b[39mconstant(np\u001b[38;5;241m.\u001b[39marray(Image\u001b[38;5;241m.\u001b[39mopen(dataset \u001b[38;5;241m+\u001b[39m img \u001b[38;5;241m+\u001b[39m \u001b[38;5;124m'\u001b[39m\u001b[38;5;124m.jpg\u001b[39m\u001b[38;5;124m'\u001b[39m)\u001b[38;5;241m.\u001b[39mresize((\u001b[38;5;241m150\u001b[39m, \u001b[38;5;241m150\u001b[39m)))) \u001b[38;5;28;01mfor\u001b[39;00m img \u001b[38;5;129;01min\u001b[39;00m image_names]\n",
      "\u001b[1;31mNameError\u001b[0m: name 'image_names' is not defined"
     ]
    }
   ],
   "source": [
    "from sklearn.model_selection import train_test_split\n"
   ]
  },
  {
   "cell_type": "code",
   "execution_count": null,
   "id": "cc1d4ab0-767d-4ed7-9d19-16b4933abd59",
   "metadata": {},
   "outputs": [],
   "source": [
    "X_train, X_test, y_train, y_test = train_test_split(X, y, test_size=0.2, random_state=42)"
   ]
  },
  {
   "cell_type": "code",
   "execution_count": null,
   "id": "66302787-fc70-41c6-bc39-90870d386685",
   "metadata": {},
   "outputs": [],
   "source": [
    "model = Sequential()\n",
    "\n",
    "model.add(Conv2D(filters=16, kernel_size=(5, 5), activation=\"relu\", input_shape=(150,150,3)))\n",
    "model.add(BatchNormalization())\n",
    "model.add(MaxPooling2D(pool_size=(2, 2)))\n",
    "model.add(Dropout(0.2))\n",
    "\n",
    "model.add(Conv2D(filters=32, kernel_size=(5, 5), activation='relu'))\n",
    "model.add(MaxPooling2D(pool_size=(2, 2)))\n",
    "model.add(BatchNormalization())\n",
    "model.add(Dropout(0.2))\n",
    "\n",
    "model.add(Conv2D(filters=64, kernel_size=(5, 5), activation=\"relu\"))\n",
    "model.add(MaxPooling2D(pool_size=(2, 2)))\n",
    "model.add(BatchNormalization())\n",
    "model.add(Dropout(0.2))\n",
    "\n",
    "model.add(Conv2D(filters=64, kernel_size=(5, 5), activation='relu'))\n",
    "model.add(MaxPooling2D(pool_size=(2, 2)))\n",
    "model.add(BatchNormalization())\n",
    "model.add(Dropout(0.2))\n",
    "\n",
    "model.add(Flatten())\n",
    "model.add(Dense(128, activation='relu'))\n",
    "model.add(Dropout(0.5))\n",
    "model.add(Dense(64, activation='relu'))\n",
    "model.add(Dropout(0.5))\n",
    "model.add(Dense(25, activation='sigmoid'))"
   ]
  },
  {
   "cell_type": "code",
   "execution_count": null,
   "id": "214644ee-8599-4840-afa7-6bd0bf3e11b1",
   "metadata": {},
   "outputs": [],
   "source": [
    "model.summary()\n"
   ]
  },
  {
   "cell_type": "code",
   "execution_count": null,
   "id": "843afe81-940a-4a42-bd27-17f91f3f2789",
   "metadata": {},
   "outputs": [],
   "source": [
    "model.compile(optimizer='adam', loss='binary_crossentropy', metrics=['accuracy'])\n"
   ]
  },
  {
   "cell_type": "code",
   "execution_count": null,
   "id": "7d7aaf53-f293-4134-a767-eb3c4c0a10e5",
   "metadata": {},
   "outputs": [],
   "source": [
    "history = model.fit(X_train, y_train, epochs=50, validation_data=(X_test, y_test), batch_size=64)\n"
   ]
  },
  {
   "cell_type": "code",
   "execution_count": null,
   "id": "e89d3e89-a8da-4a0c-824b-ce1a92769237",
   "metadata": {},
   "outputs": [],
   "source": []
  },
  {
   "cell_type": "code",
   "execution_count": null,
   "id": "57623bff-1574-48ae-a7f4-580f932df384",
   "metadata": {},
   "outputs": [],
   "source": []
  }
 ],
 "metadata": {
  "kernelspec": {
   "display_name": "Python 3 (ipykernel)",
   "language": "python",
   "name": "python3"
  },
  "language_info": {
   "codemirror_mode": {
    "name": "ipython",
    "version": 3
   },
   "file_extension": ".py",
   "mimetype": "text/x-python",
   "name": "python",
   "nbconvert_exporter": "python",
   "pygments_lexer": "ipython3",
   "version": "3.11.5"
  }
 },
 "nbformat": 4,
 "nbformat_minor": 5
}
